{
 "cells": [
  {
   "cell_type": "markdown",
   "metadata": {},
   "source": [
    "# Spatiotemporal Analysis of Vegetation Health and Climate Variability in Somalia\n",
    "\n",
    "### Name: Asia Katun\n",
    "### Date: 04/25/2025\n"
   ]
  },
  {
   "cell_type": "markdown",
   "metadata": {},
   "source": [
    "### Project Report Summary\n",
    "\n",
    "#### This report explores how vegetation health, measured using NDVI, relates to climate variables such as rainfall and consecutive dry days (CDD) in Somalia from 2000 to 2020. The study uses geospatial techniques, Earth observation data, and statistical methods to identify regions most affected by environmental stress."
   ]
  },
  {
   "cell_type": "markdown",
   "metadata": {},
   "source": [
    "### Research Questions\n",
    "\n",
    "1.) How has vegetation health (NDVI) changed regionally across Somalia from 2000 to 2020?\n",
    "\n",
    "2.) How do changes in NDVI correspond with patterns of rainfall and CDDs across regions and time?\n",
    "\n",
    "3.) What spatial and temporal patterns emerge when comparing vegetation and climate variability?\n",
    "\n",
    "### Objectives\n",
    "\n",
    "1.) Visualize the spatial and temporal distribution of NDVI, rainfall, and temperature anomalies across Somalia.\n",
    "\n",
    "2.) Analyze regional climate and vegetation trends at 5-year intervals.\n",
    "\n",
    "3.) Identify correlations between climate anomalies and changes in vegetation health.\n",
    "\n"
   ]
  },
  {
   "cell_type": "markdown",
   "metadata": {},
   "source": [
    "### I. Introduction\n",
    "\n",
    "Somalia is a climate-vulnerable country frequently impacted by droughts and famine. Understanding long-term environmental changes is critical for food security planning. This project addresses the following research questions:"
   ]
  },
  {
   "cell_type": "markdown",
   "metadata": {},
   "source": [
    "### II. Data and Methodology\n",
    "#### Datasets Used\n",
    "\n",
    "NDVI: MODIS Terra Vegetation Indices (MOD13Q1), extracted via Google Earth Engine (GEE)\n",
    "\n",
    "Rainfall: FEWS NET CHIRPS daily raster data (ADM2 aggregated to ADM1)\n",
    "\n",
    "CDD: ERA5 historical climate dataset (1950–2022), filtered for Somalia\n",
    "\n",
    "Shapefiles: geoBoundaries ADM1 (regional boundaries)\n",
    "\n",
    "####  Preprocessing Steps\n",
    "\n",
    "NDVI: Mean NDVI per region/year for 2000, 2005, 2010, 2015, 2020\n",
    "\n",
    "Rainfall: Aggregated rfh_avg by ADM2 → ADM1, annual mean from 2000–2020\n",
    "\n",
    "CDD: Extracted from Excel and converted to long format (national-level)\n",
    "\n",
    "Merged Dataset: Combined NDVI, Rainfall, and CDD into one table for correlation and trends"
   ]
  },
  {
   "cell_type": "markdown",
   "metadata": {},
   "source": [
    "### III. Results and Visualizations\n",
    "\n",
    "#### 1. NDVI Trends by Region\n",
    "\n",
    "Generated NDVI maps for 5-year intervals\n",
    "\n",
    "Observed significant NDVI drop in regions like Bakool and Gedo in early 2010s\n",
    "\n",
    "#### 2. NDVI Change Map (2000–2020)\n",
    "\n",
    "Computed difference in NDVI between 2000 and 2020\n",
    "\n",
    "Geospatial map shows Bay and Gedo with major NDVI reductions\n",
    "\n",
    "#### 3. Rainfall Trends\n",
    "\n",
    "Rainfall line plots show variation with some regional recovery after 2015\n",
    "\n",
    "Rainfall change map showed minor change in many regions, aligning with NDVI stagnation\n",
    "\n",
    "#### 4. CDD Patterns\n",
    "\n",
    "National CDD increased slightly post-2010, peaking around 2017–2019\n",
    "\n",
    "Suggests worsening drought conditions\n",
    "\n",
    "#### 5. Correlation Analysis\n",
    "\n",
    "NDVI positively correlated with rainfall (0.62)\n",
    "\n",
    "NDVI negatively correlated with CDD (−0.48)"
   ]
  },
  {
   "cell_type": "code",
   "execution_count": null,
   "metadata": {
    "vscode": {
     "languageId": "plaintext"
    }
   },
   "outputs": [],
   "source": [
    "sns.heatmap(climate_df[[\"NDVI\", \"Rainfall\", \"CDD\"]].corr(), annot=True)"
   ]
  },
  {
   "cell_type": "markdown",
   "metadata": {},
   "source": [
    "### IV. Interpretation and Discussion\n",
    "\n",
    "Vegetation Stress Zones: Gedo, Bay, and Galgaduud regions show NDVI reduction with moderate rainfall and rising CDDs.\n",
    "\n",
    "Temporal Insights: NDVI slightly rebounded post-2015 in some southern regions, correlating with rainfall improvements.\n",
    "\n",
    "Climate Risk Implications: Prolonged dry spells may drive long-term vegetation loss, even where rainfall is average.\n",
    "\n"
   ]
  },
  {
   "cell_type": "markdown",
   "metadata": {},
   "source": [
    "### VI. Conclusion and Recommendations\n",
    "\n",
    "This study highlights the importance of integrated climate-vegetation monitoring in Somalia. The NDVI, rainfall, and CDD patterns together indicate regions under increasing environmental stress, guiding priority zones for climate resilience efforts."
   ]
  },
  {
   "cell_type": "markdown",
   "metadata": {},
   "source": [
    "### Appendix\n",
    "\n",
    "Source Code: GitHub Repository\n",
    "\n",
    "Data License: MODIS, CHIRPS, ERA5 (Open Access)\n",
    "\n",
    "Tools Used: Python (pandas, geopandas, matplotlib, seaborn), Google Earth Engine, QGIS\n",
    "\n"
   ]
  },
  {
   "cell_type": "markdown",
   "metadata": {},
   "source": []
  }
 ],
 "metadata": {
  "language_info": {
   "name": "python"
  }
 },
 "nbformat": 4,
 "nbformat_minor": 2
}
